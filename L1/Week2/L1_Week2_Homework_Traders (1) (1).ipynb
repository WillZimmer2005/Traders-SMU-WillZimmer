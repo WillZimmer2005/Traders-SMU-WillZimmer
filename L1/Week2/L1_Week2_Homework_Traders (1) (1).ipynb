{
 "cells": [
  {
   "cell_type": "markdown",
   "id": "fb9eff36-7e33-4598-8685-78489fbd5ccf",
   "metadata": {},
   "source": [
    "# Traders@SMU L1 Week 2 Python Homework "
   ]
  },
  {
   "cell_type": "markdown",
   "id": "2d19ddb5-c234-4ce5-8377-7b169e1d05d4",
   "metadata": {},
   "source": [
    "### Exercise 1: Data Collection and Basic Operations\n",
    "### Topics Used: For Loops, Indexing, Lists, Operations, Variables"
   ]
  },
  {
   "cell_type": "markdown",
   "id": "b0b81eed-377b-46da-814f-10f0292dc64c",
   "metadata": {
    "jupyter": {
     "source_hidden": true
    }
   },
   "source": [
    "#### 1. You are given a list of daily closing prices for a stock over 5 days: [100.5, 102.3, 99.8, 103.7, 101.2].\n",
    "\n",
    "#### 2. Store this list in a variable called stock_prices.\n",
    "#### 3. Calculate the daily returns for each day (return = (current_price - previous_price) / previous_price) and store them in a new list called daily_returns.\n",
    "#### 4. Print the daily_returns list."
   ]
  },
  {
   "cell_type": "code",
   "execution_count": 5,
   "id": "dd1b8bf2-51a2-4bba-9dc9-fac019889457",
   "metadata": {
    "jupyter": {
     "source_hidden": true
    }
   },
   "outputs": [
    {
     "name": "stdout",
     "output_type": "stream",
     "text": [
      "[0.017910447761194003, -0.024437927663734114, 0.03907815631262531, -0.024108003857280617]\n"
     ]
    }
   ],
   "source": [
    "# Submit Code Here \n",
    "\n",
    "stock_prices = [100.5, 102.3, 99.8, 103.7, 101.2]\n",
    "daily_returns = [(stock_prices[i] - stock_prices[i-1]) / stock_prices[i-1] for i in range(1, len(stock_prices))]\n",
    "print(daily_returns)\n"
   ]
  },
  {
   "cell_type": "markdown",
   "id": "c8175f9d-6783-4290-9b38-caf6bb2c360a",
   "metadata": {},
   "source": [
    "### Exercise 2: Boolean Logic and Price Threshold Check\n",
    "\n",
    "#### Using stock_prices from Exercise 1, create price_checks with True if the price (from second day) is above $101.50, False otherwise.\n",
    "#### Print price_checks. Should output a list of True/False Booleans"
   ]
  },
  {
   "cell_type": "code",
   "execution_count": 9,
   "id": "eae4d600-56b0-428d-8129-c406e5d76f01",
   "metadata": {},
   "outputs": [
    {
     "name": "stdout",
     "output_type": "stream",
     "text": [
      "[True, False, True, False]\n"
     ]
    }
   ],
   "source": [
    "# Submit Code Here \n",
    "stock_prices = [100.5, 102.3, 99.8, 103.7, 101.2]\n",
    "price_checks = [price > 101.50 for price in stock_prices[1:]]\n",
    "print(price_checks)"
   ]
  },
  {
   "cell_type": "markdown",
   "id": "7da4549b-31e3-44bb-bb73-cd080fee5983",
   "metadata": {},
   "source": [
    "### Exercise 3: Loops and Trading Signals\n",
    "\n",
    "#### Using stock_prices, create signals (\"Buy\" if >2% increase, \"Sell\" if <-2% decrease, \"Hold\" otherwise).\n",
    "#### Break on \"Sell\".\n",
    "#### Print signals and break message."
   ]
  },
  {
   "cell_type": "code",
   "execution_count": 11,
   "id": "f4acd7d3-1c8f-4598-a148-665b870b8b62",
   "metadata": {},
   "outputs": [
    {
     "name": "stdout",
     "output_type": "stream",
     "text": [
      "['Hold', 'Sell']\n",
      "Stopped processing due to 'Sell' signal.\n"
     ]
    }
   ],
   "source": [
    "# Submit Code Here \n",
    "\n",
    "stock_prices = [100.5, 102.3, 99.8, 103.7, 101.2]\n",
    "\n",
    "signals = []\n",
    "\n",
    "for i in range(1, len(stock_prices)):\n",
    "    return_percent = (stock_prices[i] - stock_prices[i - 1]) / stock_prices[i - 1]\n",
    "\n",
    "    if return_percent > 0.02:\n",
    "        signals.append(\"Buy\")\n",
    "    elif return_percent < -0.02:\n",
    "        signals.append(\"Sell\")\n",
    "        break  # Stop processing on \"Sell\"\n",
    "    else:\n",
    "        signals.append(\"Hold\")\n",
    "\n",
    "print(signals)\n",
    "print(\"Stopped processing due to 'Sell' signal.\")\n"
   ]
  },
  {
   "cell_type": "markdown",
   "id": "baa5d0b9-78ba-4286-a678-dd0560511920",
   "metadata": {},
   "source": [
    "### Exercise 4: Functions Trading Strategy \n",
    "\n",
    "#### Create your own personal Trading Strategy using a function \n",
    "\n",
    "#### Only Requirements are to use at least 1 functions and use at least 3 technical/signal indicators\n",
    "\n",
    "#### Print the Results of your Function "
   ]
  },
  {
   "cell_type": "code",
   "execution_count": 12,
   "id": "8187fc9b-f9e2-4a05-9d08-6c581c709c9f",
   "metadata": {},
   "outputs": [
    {
     "name": "stdout",
     "output_type": "stream",
     "text": [
      "['Hold', 'Hold', 'Hold', 'Hold']\n",
      "Stopped processing due to 'Sell' signal.\n"
     ]
    }
   ],
   "source": [
    "# Submit code Here\n",
    "\n",
    "stock_prices = [100.5, 102.3, 99.8, 103.7, 101.2]\n",
    "\n",
    "signals = []\n",
    "\n",
    "for i in range(1, len(stock_prices)):\n",
    "    return_percent = (stock_prices[i] - stock_prices[i - 1]) / stock_prices[i - 1]\n",
    "\n",
    "    if return_percent > 0.05:\n",
    "        signals.append(\"Buy\")\n",
    "    elif return_percent < -0.05:\n",
    "        signals.append(\"Sell\")\n",
    "        break  # Stop processing on \"Sell\"\n",
    "    else:\n",
    "        signals.append(\"Hold\")\n",
    "\n",
    "print(signals)\n",
    "print(\"Stopped processing due to 'Sell' signal.\")"
   ]
  },
  {
   "cell_type": "markdown",
   "id": "4bc3cc32-8134-4131-9015-86736eaec0c0",
   "metadata": {},
   "source": [
    "### Final Challenge Exercise 5: Object-Oriented Programming - Advanced Trading Strategy Class\n",
    "\n",
    "#### Build an advanced TradingStrategy class to simulate a stock trading system with detailed tracking and reporting. Follow these steps:\n",
    "\n",
    "#### 1. Set up the class with:\n",
    "#### &nbsp;A name for the strategy.\n",
    "#### &nbsp;A list for stock prices.\n",
    "#### &nbsp;A list for trading signals.\n",
    "#### &nbsp;A list to record trades.\n",
    "#### &nbsp;Variables for cash (start with $10,000) and shares (start with 0).\n",
    "#### &nbsp;A fixed number of shares to trade each time (e.g., 10).\n",
    "#### 2. Create a method to add a new stock price to the class.\n",
    "#### 3. Create a method to generate trading signals:\n",
    "#### &nbsp;Compare each price to the previous one.\n",
    "#### &nbsp;Use a 2% increase for \"Buy,\" a 2% decrease for \"Sell,\" and anything else for \"Hold.\"\n",
    "#### 4. Create a method to execute trades based on signals:\n",
    "#### &nbsp;For \"Buy,\" purchase shares if cash allows, updating cash and shares.\n",
    "#### &nbsp;For \"Sell,\" sell all shares if any are owned, updating cash and shares.\n",
    "#### &nbsp;Record each trade as a tuple with price, action, and shares traded.\n",
    "#### 5. Create a method to calculate the total portfolio value using the latest price.\n",
    "#### 6. Create a method to provide a summary including:\n",
    "#### &nbsp;Strategy name, signals, trades, final cash, shares owned, and total portfolio value.\n",
    "#### 7. Test your class:\n",
    "#### &nbsp;Use the prices [100.5, 102.3, 99.8, 103.7, 101.2].\n",
    "#### &nbsp;Add each price, generate signals, execute trades, and print the summary.\n"
   ]
  },
  {
   "cell_type": "code",
   "execution_count": 15,
   "id": "20bfbf80-25f6-4352-897c-6565055eff22",
   "metadata": {},
   "outputs": [
    {
     "name": "stdout",
     "output_type": "stream",
     "text": [
      "Momentum Strategy Summary:\n",
      "Signals: ['Buy', 'Sell', 'Buy', 'Sell']\n",
      "Trades: [(113.5, 'Buy', 10), (108.9, 'Sell', 10), (115.0, 'Buy', 10), (112.4, 'Sell', 10)]\n",
      "Final Cash: $9928.00\n",
      "Shares Owned: 0\n",
      "Total Portfolio Value: $9928.00\n"
     ]
    }
   ],
   "source": [
    "# Submit Code Here \n",
    "\n",
    "class TradingStrategy:\n",
    "    def __init__(self, name):\n",
    "        self.name = name\n",
    "        self.stock_prices = []\n",
    "        self.trading_signals = []\n",
    "        self.trades = []\n",
    "        self.cash = 10000  # Starting cash\n",
    "        self.shares = 0  # Starting shares\n",
    "        self.trade_size = 10  # Fixed shares per trade\n",
    "\n",
    "    def add_price(self, price):\n",
    "        self.stock_prices.append(price)\n",
    "        if len(self.stock_prices) > 1:\n",
    "            self.generate_signal()\n",
    "\n",
    "    def generate_signal(self):\n",
    "        prev_price, curr_price = self.stock_prices[-2], self.stock_prices[-1]\n",
    "        change = (curr_price - prev_price) / prev_price\n",
    "        \n",
    "        if change > 0.02:\n",
    "            self.trading_signals.append(\"Buy\")\n",
    "            self.execute_trade(\"Buy\", curr_price)\n",
    "        elif change < -0.02:\n",
    "            self.trading_signals.append(\"Sell\")\n",
    "            self.execute_trade(\"Sell\", curr_price)\n",
    "        else:\n",
    "            self.trading_signals.append(\"Hold\")\n",
    "\n",
    "    def execute_trade(self, action, price):\n",
    "        if action == \"Buy\" and self.cash >= price * self.trade_size:\n",
    "            self.shares += self.trade_size\n",
    "            self.cash -= price * self.trade_size\n",
    "            self.trades.append((price, \"Buy\", self.trade_size))\n",
    "        elif action == \"Sell\" and self.shares > 0:\n",
    "            self.trades.append((price, \"Sell\", self.shares))\n",
    "            self.cash += price * self.shares\n",
    "            self.shares = 0\n",
    "\n",
    "    def portfolio_value(self):\n",
    "        return self.cash + (self.shares * self.stock_prices[-1]) if self.stock_prices else self.cash\n",
    "\n",
    "    def summary(self):\n",
    "        print(f\"{self.name} Summary:\")\n",
    "        print(f\"Signals: {self.trading_signals}\")\n",
    "        print(f\"Trades: {self.trades}\")\n",
    "        print(f\"Final Cash: ${self.cash:.2f}\")\n",
    "        print(f\"Shares Owned: {self.shares}\")\n",
    "        print(f\"Total Portfolio Value: ${self.portfolio_value():.2f}\")\n",
    "\n",
    "# Testing the TradingStrategy class\n",
    "prices = [110.2, 113.5, 108.9, 115.0, 112.4]\n",
    "strategy = TradingStrategy(\"Momentum Strategy\")\n",
    "\n",
    "for price in prices:\n",
    "    strategy.add_price(price)\n",
    "\n",
    "strategy.summary()\n",
    "\n"
   ]
  },
  {
   "cell_type": "markdown",
   "id": "0a1b58a7-f803-4f21-b0c7-af49610fc819",
   "metadata": {},
   "source": [
    "### Expected Output Example\n",
    "\n",
    "#### Momentum Strategy Summary:\n",
    "#### Signals: ['Hold','Sell','Buy','Sell'] \n",
    "#### Trades: [(99.8, 'Sell', 0), (103.7, 'Buy', 10), (101.2, 'Sell', 10)]\n",
    "#### Final Cash: 9975.0\n",
    "#### Shares Owned: 0\n",
    "#### Total Portfolio Value: $9975.0"
   ]
  }
 ],
 "metadata": {
  "kernelspec": {
   "display_name": "Python 3 (ipykernel)",
   "language": "python",
   "name": "python3"
  },
  "language_info": {
   "codemirror_mode": {
    "name": "ipython",
    "version": 3
   },
   "file_extension": ".py",
   "mimetype": "text/x-python",
   "name": "python",
   "nbconvert_exporter": "python",
   "pygments_lexer": "ipython3",
   "version": "3.12.3"
  }
 },
 "nbformat": 4,
 "nbformat_minor": 5
}
